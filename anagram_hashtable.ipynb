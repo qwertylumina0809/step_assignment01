{
 "cells": [
  {
   "cell_type": "code",
   "execution_count": 24,
   "metadata": {},
   "outputs": [],
   "source": [
    "# read dictionary\n",
    "\n",
    "with open('dictionary.txt') as f:\n",
    "    lines = f.read()\n",
    "    dictionary = lines.split('\\n')"
   ]
  },
  {
   "cell_type": "code",
   "execution_count": 57,
   "metadata": {},
   "outputs": [],
   "source": [
    "# make dictionary with score (python dict:hash table)\n",
    "\n",
    "def list_to_str(mysort:list):\n",
    "    \n",
    "    word = \"\"\n",
    "    \n",
    "    for w in mysort:\n",
    "        word += w\n",
    "    \n",
    "    return word\n",
    "\n",
    "new_dictionary = []\n",
    "score_dict = {'a':1,'b':1,'d':1,'e':1,'g':1,'i':1,'n':1,'o':1,'r':1,'s':1,'t':1,'u':1,'c':2,'f':2,'h':2,'l':2,'m':2,'p':2,'v':2,'w':2,'y':2,'j':3,'k':3,'q':3,'x':3,'z':3}\n",
    "scored_dict = {}\n",
    "\n",
    "for word in dictionary:\n",
    "    word = word.lower()\n",
    "    score = 0\n",
    "    for w in word:\n",
    "        score += score_dict[w]\n",
    "        sorted_word = list_to_str(sorted(word))\n",
    "    scored_dict[sorted_word] = (score,word)\n"
   ]
  },
  {
   "cell_type": "code",
   "execution_count": 50,
   "metadata": {},
   "outputs": [],
   "source": [
    "# make anagram not using all the words\n",
    "from itertools import combinations\n",
    " \n",
    "def my_combination(alphabet:list):\n",
    "    \n",
    "    my_c = []\n",
    "    l = len(alphabet)\n",
    "    for i in range(l+1):\n",
    "        for a in combinations(alphabet,i):\n",
    "            my_c.append(list_to_str(a))\n",
    "    \n",
    "    return my_c\n",
    "        \n",
    "\n",
    "def get_highest_anagram(random_word:str):\n",
    "    \n",
    "    anagram = []\n",
    "    max_score = 0\n",
    "    targer_word = ''\n",
    "    result = 0\n",
    "    \n",
    "    for word in my_combination(random_word):\n",
    "        s = 0\n",
    "        sw = list_to_str(sorted(word))\n",
    "        if sw in scored_dict:\n",
    "            s = scored_dict[sw][0]\n",
    "        if s > max_score:\n",
    "            max_score = s\n",
    "            targer_word = scored_dict[sw][1]\n",
    "\n",
    "    result = (max_score+1)*(max_score+1)\n",
    "            \n",
    "    return (targer_word,result)\n",
    "        "
   ]
  }
 ],
 "metadata": {
  "kernelspec": {
   "display_name": "Python 3",
   "language": "python",
   "name": "python3"
  },
  "language_info": {
   "codemirror_mode": {
    "name": "ipython",
    "version": 3
   },
   "file_extension": ".py",
   "mimetype": "text/x-python",
   "name": "python",
   "nbconvert_exporter": "python",
   "pygments_lexer": "ipython3",
   "version": "3.6.9"
  }
 },
 "nbformat": 4,
 "nbformat_minor": 2
}
