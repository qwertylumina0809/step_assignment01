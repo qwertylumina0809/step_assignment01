{
 "cells": [
  {
   "cell_type": "code",
   "execution_count": 1,
   "metadata": {},
   "outputs": [],
   "source": [
    "# read dictionary\n",
    "\n",
    "with open('dictionary.txt') as f:\n",
    "    lines = f.read()\n",
    "    dictionary = lines.split('\\n')  "
   ]
  },
  {
   "cell_type": "code",
   "execution_count": 4,
   "metadata": {},
   "outputs": [],
   "source": [
    "# make sorted dictionary\n",
    "\n",
    "new_dictionary = []\n",
    "\n",
    "for word in dictionary:\n",
    "\n",
    "    new_dictionary.append((\"\".join(sorted(word)),word))\n",
    "\n",
    "sorted_dictionary = sorted(new_dictionary,key = lambda x:x[0])"
   ]
  },
  {
   "cell_type": "code",
   "execution_count": 7,
   "metadata": {},
   "outputs": [],
   "source": [
    "# make anagram using all the words\n",
    "def get_anagram(random_word:str):\n",
    "    \n",
    "    sorted_random_word = sorted(random_word)\n",
    "    n = len(sorted_dictionary)\n",
    "    \n",
    "    left = 0\n",
    "    right = n\n",
    "    sorted_random_str = \"\".join(sorted_random_word)\n",
    "    \n",
    "    while(l<=r):\n",
    "        \n",
    "        if sorted_random_str == sorted_dictionary[(l+r)//2][0]:\n",
    "            return sorted_dictionary[(l+r)//2][1]\n",
    "        \n",
    "        if sorted_random_str < sorted_dictionary[(l+r)//2][0]:\n",
    "            right = (l+r)//2 -1\n",
    "            \n",
    "        if sorted_random_str > sorted_dictionary[(l+r)//2][0]:\n",
    "            left = (l+r)//2 + 1\n",
    "            \n",
    "    return None\n"
   ]
  },
  {
   "cell_type": "code",
   "execution_count": 18,
   "metadata": {},
   "outputs": [],
   "source": [
    "# make anagram not using all the words\n",
    "from itertools import combinations\n",
    "\n",
    "def get_all_comination(alphabet:list):\n",
    "    \n",
    "    all_combinations = []\n",
    "    l = len(alphabet)\n",
    "    for i in range(1,l+1): #\n",
    "        for a in combinations(alphabet,i):\n",
    "            all_combinations.append(\"\".join(a))\n",
    "    \n",
    "    return all_combinations\n",
    "        \n",
    "\n",
    "def get_part_anagram(random_word:str):\n",
    "    \n",
    "    anagram = []\n",
    "    sorted_random_word = sorted(random_word)\n",
    "    \n",
    "    for sorted_random_str in get_all_comination(sorted_random_word):\n",
    "        \n",
    "        l = 0\n",
    "        r = len(sorted_dictionary)\n",
    "        \n",
    "        while(l<r):\n",
    "            \n",
    "            if sorted_random_str == sorted_dictionary[(l+r)//2][0]:\n",
    "                anagram.append(sorted_dictionary[(l+r)//2][1])\n",
    "                break\n",
    "        \n",
    "            if sorted_random_str < sorted_dictionary[(l+r)//2][0]:\n",
    "                r = (l+r)//2 -1\n",
    "            \n",
    "            if sorted_random_str > sorted_dictionary[(l+r)//2][0]:\n",
    "                l = (l+r)//2 + 1\n",
    "                \n",
    "    return anagram"
   ]
  },
  {
   "cell_type": "code",
   "execution_count": 12,
   "metadata": {},
   "outputs": [],
   "source": [
    "def max_score_word(anagram:list):\n",
    "    \n",
    "    score_dict= {'a':1,'b':1,'d':1,'e':1,'g':1,'i':1,'n':1,'o':1,'r':1,'s':1,'t':1,'u':1,'c':2,'f':2,'h':2,'l':2,'m':2,'p':2,'v':2,'w':2,'y':2,'j':3,'k':3,'q':3,'qu':3,'x':3,'z':3}\n",
    "    \n",
    "    max_score = 0\n",
    "    target_word = ''\n",
    "    \n",
    "    for word in set(anagram):\n",
    "        l = len(word)\n",
    "        score = 0\n",
    "        for w in word:\n",
    "            score = score + score_dict[w]\n",
    "        if score > max_score:\n",
    "            max_score = score\n",
    "            target_word = word\n",
    "    \n",
    "    return target_word"
   ]
  }
 ],
 "metadata": {
  "kernelspec": {
   "display_name": "Python 3",
   "language": "python",
   "name": "python3"
  },
  "language_info": {
   "codemirror_mode": {
    "name": "ipython",
    "version": 3
   },
   "file_extension": ".py",
   "mimetype": "text/x-python",
   "name": "python",
   "nbconvert_exporter": "python",
   "pygments_lexer": "ipython3",
   "version": "3.6.9"
  }
 },
 "nbformat": 4,
 "nbformat_minor": 2
}
