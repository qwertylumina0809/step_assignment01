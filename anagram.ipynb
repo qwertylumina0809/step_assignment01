{
 "cells": [
  {
   "cell_type": "code",
   "execution_count": 2,
   "metadata": {},
   "outputs": [],
   "source": [
    "# read dictionary\n",
    "\n",
    "with open('dictionary.txt') as f:\n",
    "    lines = f.read()\n",
    "    dictionary = lines.split('\\n')  "
   ]
  },
  {
   "cell_type": "code",
   "execution_count": 3,
   "metadata": {},
   "outputs": [],
   "source": [
    "# make sorted dictionary\n",
    "\n",
    "new_dictionary = []\n",
    "max = 0\n",
    "\n",
    "for word in dictionary:\n",
    "    l = len(word)\n",
    "    if l>max:\n",
    "        max=l\n",
    "    if word != '':\n",
    "        new_dictionary.append((sorted(word),word))\n",
    "\n",
    "sorted_dictionary = sorted(new_dictionary,key = lambda x:x[0])"
   ]
  },
  {
   "cell_type": "code",
   "execution_count": 4,
   "metadata": {},
   "outputs": [
    {
     "data": {
      "text/plain": [
       "17"
      ]
     },
     "execution_count": 4,
     "metadata": {},
     "output_type": "execute_result"
    }
   ],
   "source": [
    "max"
   ]
  },
  {
   "cell_type": "code",
   "execution_count": 18,
   "metadata": {},
   "outputs": [],
   "source": [
    "# make sorted results str:\n",
    "def list_to_str(mysort:list):\n",
    "    \n",
    "    word = \"\"\n",
    "    \n",
    "    for w in mysort:\n",
    "        word += w\n",
    "    \n",
    "    return word\n",
    "    "
   ]
  },
  {
   "cell_type": "code",
   "execution_count": 6,
   "metadata": {},
   "outputs": [],
   "source": [
    "# make anagram using all the words\n",
    "def get_anagram(random_word:str):\n",
    "    \n",
    "    sorted_random_word = sorted(random_word)\n",
    "    n = len(sorted_dictionary)\n",
    "    \n",
    "    l = 0\n",
    "    r = n\n",
    "    sorted_random_str = list_to_str(sorted_random_word)\n",
    "    \n",
    "    while(l<=r):\n",
    "        \n",
    "        if sorted_random_str == list_to_str(sorted_dictionary[(l+r)//2][0]):\n",
    "            return sorted_dictionary[(l+r)//2][1]\n",
    "        \n",
    "        if sorted_random_str < list_to_str(sorted_dictionary[(l+r)//2][0]):\n",
    "            r = (l+r)//2 -1\n",
    "            \n",
    "        if sorted_random_str > list_to_str(sorted_dictionary[(l+r)//2][0]):\n",
    "            l = (l+r)//2 + 1\n",
    "            \n",
    "    return None\n"
   ]
  },
  {
   "cell_type": "code",
   "execution_count": 7,
   "metadata": {},
   "outputs": [
    {
     "data": {
      "text/plain": [
       "'each'"
      ]
     },
     "execution_count": 7,
     "metadata": {},
     "output_type": "execute_result"
    }
   ],
   "source": [
    "# test\n",
    "get_anagram('aceh')"
   ]
  },
  {
   "cell_type": "code",
   "execution_count": 8,
   "metadata": {},
   "outputs": [],
   "source": [
    "# make anagram not using all the words\n",
    "from itertools import combinations\n",
    "\n",
    "def my_combination(alphabet:list):\n",
    "    \n",
    "    my_c = []\n",
    "    l = len(alphabet)\n",
    "    for i in range(l+1):\n",
    "        for a in combinations(alphabet,i):\n",
    "            my_c.append(list_to_str(a))\n",
    "    \n",
    "    return my_c\n",
    "        \n",
    "\n",
    "def get_part_anagram(random_word:str):\n",
    "    \n",
    "    anagram = []\n",
    "    sorted_random_word = sorted(random_word)\n",
    "    n_dict = len(sorted_dictionary)\n",
    "    n_word = len(sorted_random_word)\n",
    "    \n",
    "    for sorted_random_str in my_combination(sorted_random_word):\n",
    "        \n",
    "        l = 0\n",
    "        r = n_dict\n",
    "        \n",
    "        while(l<r):\n",
    "            \n",
    "            if sorted_random_str == list_to_str(sorted_dictionary[(l+r)//2][0]):\n",
    "                anagram.append(sorted_dictionary[(l+r)//2][1])\n",
    "                break\n",
    "        \n",
    "            if sorted_random_str < list_to_str(sorted_dictionary[(l+r)//2][0]):\n",
    "                r = (l+r)//2 -1\n",
    "            \n",
    "            if sorted_random_str > list_to_str(sorted_dictionary[(l+r)//2][0]):\n",
    "                l = (l+r)//2 + 1\n",
    "                \n",
    "    return anagram"
   ]
  },
  {
   "cell_type": "code",
   "execution_count": 9,
   "metadata": {},
   "outputs": [],
   "source": [
    "# test\n",
    "test = get_part_anagram('lfxdvkwanhwougub')"
   ]
  },
  {
   "cell_type": "code",
   "execution_count": 12,
   "metadata": {},
   "outputs": [],
   "source": [
    "def max_score_word(anagram:set):\n",
    "    \n",
    "    score_dict= {'a':1,'b':1,'d':1,'e':1,'g':1,'i':1,'n':1,'o':1,'r':1,'s':1,'t':1,'u':1,'c':2,'f':2,'h':2,'l':2,'m':2,'p':2,'v':2,'w':2,'y':2,'j':3,'k':3,'q':3,'x':3,'z':3}\n",
    "    \n",
    "    max_score = 0\n",
    "    target_word = ''\n",
    "    \n",
    "    for word in set(anagram):\n",
    "        l = len(word)\n",
    "        score = 0\n",
    "        for w in word:\n",
    "            score = score + score_dict[w]\n",
    "        if score > max_score:\n",
    "            max_score = score\n",
    "            target_word = word\n",
    "    \n",
    "    return target_word"
   ]
  },
  {
   "cell_type": "code",
   "execution_count": 13,
   "metadata": {},
   "outputs": [
    {
     "data": {
      "text/plain": [
       "'blowgun'"
      ]
     },
     "execution_count": 13,
     "metadata": {},
     "output_type": "execute_result"
    }
   ],
   "source": [
    "max_score_word(test)"
   ]
  }
 ],
 "metadata": {
  "kernelspec": {
   "display_name": "Python 3",
   "language": "python",
   "name": "python3"
  },
  "language_info": {
   "codemirror_mode": {
    "name": "ipython",
    "version": 3
   },
   "file_extension": ".py",
   "mimetype": "text/x-python",
   "name": "python",
   "nbconvert_exporter": "python",
   "pygments_lexer": "ipython3",
   "version": "3.6.9"
  }
 },
 "nbformat": 4,
 "nbformat_minor": 2
}
